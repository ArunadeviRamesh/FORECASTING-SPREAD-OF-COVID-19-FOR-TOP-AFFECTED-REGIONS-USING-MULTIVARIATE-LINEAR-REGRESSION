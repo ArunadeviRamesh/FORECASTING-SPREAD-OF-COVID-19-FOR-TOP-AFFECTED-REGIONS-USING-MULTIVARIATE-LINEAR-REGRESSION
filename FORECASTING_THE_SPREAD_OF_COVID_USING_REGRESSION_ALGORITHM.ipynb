{
  "nbformat": 4,
  "nbformat_minor": 0,
  "metadata": {
    "colab": {
      "name": "FORECASTING THE SPREAD OF COVID USING REGRESSION ALGORITHM.ipynb",
      "provenance": [],
      "collapsed_sections": [],
      "include_colab_link": true
    },
    "kernelspec": {
      "display_name": "Python 3",
      "language": "python",
      "name": "python3"
    },
    "language_info": {
      "codemirror_mode": {
        "name": "ipython",
        "version": 3
      },
      "file_extension": ".py",
      "mimetype": "text/x-python",
      "name": "python",
      "nbconvert_exporter": "python",
      "pygments_lexer": "ipython3",
      "version": "3.8.7"
    }
  },
  "cells": [
    {
      "cell_type": "markdown",
      "metadata": {
        "id": "view-in-github",
        "colab_type": "text"
      },
      "source": [
        "<a href=\"https://colab.research.google.com/github/ArunadeviRamesh/FORECASTING-SPREAD-OF-COVID-19-FOR-TOP-AFFECTED-REGIONS-USING-MULTIVARIATE-LINEAR-REGRESSION/blob/main/FORECASTING_THE_SPREAD_OF_COVID_USING_REGRESSION_ALGORITHM.ipynb\" target=\"_parent\"><img src=\"https://colab.research.google.com/assets/colab-badge.svg\" alt=\"Open In Colab\"/></a>"
      ]
    },
    {
      "cell_type": "code",
      "metadata": {
        "colab": {
          "base_uri": "https://localhost:8080/"
        },
        "id": "P0qoIxk8kxFu",
        "outputId": "85507db8-b469-4f46-b27f-97885f258345"
      },
      "source": [
        "from google.colab import drive\n",
        "drive.mount('/content/drive')"
      ],
      "execution_count": 1,
      "outputs": [
        {
          "output_type": "stream",
          "text": [
            "Mounted at /content/drive\n"
          ],
          "name": "stdout"
        }
      ]
    },
    {
      "cell_type": "code",
      "metadata": {
        "id": "im24H9xC9yjK"
      },
      "source": [
        "import numpy as np\n",
        "import pandas as pd\n",
        "import matplotlib.pyplot as plt\n",
        "import seaborn as sns\n",
        "import plotly.graph_objs as go\n",
        "import plotly.express as px\n",
        "import warnings\n",
        "warnings.filterwarnings(\"ignore\")"
      ],
      "execution_count": 2,
      "outputs": []
    },
    {
      "cell_type": "markdown",
      "metadata": {
        "id": "dgwC5eZXnIQc"
      },
      "source": [
        "TAMILNADU"
      ]
    },
    {
      "cell_type": "code",
      "metadata": {
        "colab": {
          "base_uri": "https://localhost:8080/",
          "height": 210
        },
        "id": "qlU1BAYz_GJV",
        "outputId": "7ed1227f-84a3-4bc9-9f0e-7c16dfbc0b54"
      },
      "source": [
        "df=pd.read_csv(\"/content/drive/MyDrive/Machine Learning Projects/covid data/tamilnadu/TN confirmed and active 15 and 5 days.csv\")\n",
        "df.head(3)"
      ],
      "execution_count": 4,
      "outputs": [
        {
          "output_type": "execute_result",
          "data": {
            "text/html": [
              "<div>\n",
              "<style scoped>\n",
              "    .dataframe tbody tr th:only-of-type {\n",
              "        vertical-align: middle;\n",
              "    }\n",
              "\n",
              "    .dataframe tbody tr th {\n",
              "        vertical-align: top;\n",
              "    }\n",
              "\n",
              "    .dataframe thead th {\n",
              "        text-align: right;\n",
              "    }\n",
              "</style>\n",
              "<table border=\"1\" class=\"dataframe\">\n",
              "  <thead>\n",
              "    <tr style=\"text-align: right;\">\n",
              "      <th></th>\n",
              "      <th>district</th>\n",
              "      <th>date</th>\n",
              "      <th>Active</th>\n",
              "      <th>confirmed</th>\n",
              "      <th>death</th>\n",
              "      <th>cured</th>\n",
              "      <th>confirmed 15days</th>\n",
              "      <th>death 15 days</th>\n",
              "      <th>confirmed one week</th>\n",
              "      <th>death one week</th>\n",
              "    </tr>\n",
              "  </thead>\n",
              "  <tbody>\n",
              "    <tr>\n",
              "      <th>0</th>\n",
              "      <td>Tamil Nadu</td>\n",
              "      <td>7/3/2020</td>\n",
              "      <td>NaN</td>\n",
              "      <td>1</td>\n",
              "      <td>0</td>\n",
              "      <td>0</td>\n",
              "      <td>7</td>\n",
              "      <td>0</td>\n",
              "      <td>1</td>\n",
              "      <td>0</td>\n",
              "    </tr>\n",
              "    <tr>\n",
              "      <th>1</th>\n",
              "      <td>Tamil Nadu</td>\n",
              "      <td>8/3/2020</td>\n",
              "      <td>NaN</td>\n",
              "      <td>1</td>\n",
              "      <td>0</td>\n",
              "      <td>0</td>\n",
              "      <td>9</td>\n",
              "      <td>0</td>\n",
              "      <td>1</td>\n",
              "      <td>0</td>\n",
              "    </tr>\n",
              "    <tr>\n",
              "      <th>2</th>\n",
              "      <td>Tamil Nadu</td>\n",
              "      <td>9/3/2020</td>\n",
              "      <td>NaN</td>\n",
              "      <td>1</td>\n",
              "      <td>0</td>\n",
              "      <td>0</td>\n",
              "      <td>15</td>\n",
              "      <td>0</td>\n",
              "      <td>1</td>\n",
              "      <td>0</td>\n",
              "    </tr>\n",
              "  </tbody>\n",
              "</table>\n",
              "</div>"
            ],
            "text/plain": [
              "     district      date  ...  confirmed one week  death one week\n",
              "0  Tamil Nadu  7/3/2020  ...                   1               0\n",
              "1  Tamil Nadu  8/3/2020  ...                   1               0\n",
              "2  Tamil Nadu  9/3/2020  ...                   1               0\n",
              "\n",
              "[3 rows x 10 columns]"
            ]
          },
          "metadata": {
            "tags": []
          },
          "execution_count": 4
        }
      ]
    },
    {
      "cell_type": "code",
      "metadata": {
        "id": "-ZgTLH-p_T2_"
      },
      "source": [
        "x=df.iloc[:,[3,4]]\n",
        "y=df.iloc[:,6]\n"
      ],
      "execution_count": 5,
      "outputs": []
    },
    {
      "cell_type": "code",
      "metadata": {
        "colab": {
          "base_uri": "https://localhost:8080/"
        },
        "id": "vVGKoB2G_bB3",
        "outputId": "c59d8fee-2a70-40ab-c8da-2da237beea74"
      },
      "source": [
        "from sklearn.model_selection import train_test_split\n",
        "x_train,x_test,y_train,y_test=train_test_split(x,y,test_size=0.4,random_state=0)\n",
        "from sklearn.linear_model import LinearRegression\n",
        "lr=LinearRegression()\n",
        "lr.fit(x_train,y_train)"
      ],
      "execution_count": 6,
      "outputs": [
        {
          "output_type": "execute_result",
          "data": {
            "text/plain": [
              "LinearRegression(copy_X=True, fit_intercept=True, n_jobs=None, normalize=False)"
            ]
          },
          "metadata": {
            "tags": []
          },
          "execution_count": 6
        }
      ]
    },
    {
      "cell_type": "code",
      "metadata": {
        "colab": {
          "base_uri": "https://localhost:8080/"
        },
        "id": "0pOQL38D_hLm",
        "outputId": "3c0f0202-ab36-45f9-e8ac-e3b7b8cf9a0c"
      },
      "source": [
        "y_pred=lr.predict(x_test)\n",
        "from sklearn.metrics import r2_score,mean_squared_error,mean_absolute_error\n",
        "from math import sqrt\n",
        "accuracy=r2_score(y_pred,y_test)*100\n",
        "print(\"Accuracy r2_score\",accuracy)\n",
        "print(\"ACCURACY=\",lr.score(x_train,y_train)*100)\n",
        "from sklearn.metrics import mean_absolute_error\n",
        "pred= lr.predict(x_test)\n",
        "print(\"MAE=\",mean_absolute_error(y_test, pred))\n",
        "rss=((y_test-y_pred)**2).sum()\n",
        "mse=np.mean((y_test-y_pred)**2)\n",
        "print(\"MSE=\",mse)\n",
        "print(\"Final rmse value is =\",np.sqrt(np.mean((y_test-y_pred)**2)))"
      ],
      "execution_count": 7,
      "outputs": [
        {
          "output_type": "stream",
          "text": [
            "Accuracy r2_score 99.35727879948986\n",
            "ACCURACY= 99.51119975778796\n",
            "MAE= 2628.670579847324\n",
            "MSE= 15867541.115836555\n",
            "Final rmse value is = 3983.408228619878\n"
          ],
          "name": "stdout"
        }
      ]
    },
    {
      "cell_type": "code",
      "metadata": {
        "colab": {
          "base_uri": "https://localhost:8080/"
        },
        "id": "Ppa8vsV9_kGy",
        "outputId": "faff7830-bcca-47d3-dc27-37a9c32b8957"
      },
      "source": [
        "print(lr.predict([[175678,2551]]))\n",
        "print(lr.predict([[185678,3500]]))\n",
        "lr.predict([[180643,2626]])"
      ],
      "execution_count": 8,
      "outputs": [
        {
          "output_type": "stream",
          "text": [
            "[283717.51614998]\n",
            "[249925.67090885]\n"
          ],
          "name": "stdout"
        },
        {
          "output_type": "execute_result",
          "data": {
            "text/plain": [
              "array([291515.62695303])"
            ]
          },
          "metadata": {
            "tags": []
          },
          "execution_count": 8
        }
      ]
    },
    {
      "cell_type": "markdown",
      "metadata": {
        "id": "NFAkKy7bnPNh"
      },
      "source": [
        "WORLD DATASET"
      ]
    },
    {
      "cell_type": "code",
      "metadata": {
        "colab": {
          "base_uri": "https://localhost:8080/",
          "height": 142
        },
        "id": "GJvtQ3s7F5fk",
        "outputId": "9e4a7359-8685-4422-b962-6a6a3f808f32"
      },
      "source": [
        "df=pd.read_csv(\"/content/drive/MyDrive/Machine Learning Projects/covid data/world/world 15 and 5.csv\")\n",
        "df.head(3)"
      ],
      "execution_count": 9,
      "outputs": [
        {
          "output_type": "execute_result",
          "data": {
            "text/html": [
              "<div>\n",
              "<style scoped>\n",
              "    .dataframe tbody tr th:only-of-type {\n",
              "        vertical-align: middle;\n",
              "    }\n",
              "\n",
              "    .dataframe tbody tr th {\n",
              "        vertical-align: top;\n",
              "    }\n",
              "\n",
              "    .dataframe thead th {\n",
              "        text-align: right;\n",
              "    }\n",
              "</style>\n",
              "<table border=\"1\" class=\"dataframe\">\n",
              "  <thead>\n",
              "    <tr style=\"text-align: right;\">\n",
              "      <th></th>\n",
              "      <th>district</th>\n",
              "      <th>date</th>\n",
              "      <th>active</th>\n",
              "      <th>confirmed</th>\n",
              "      <th>death</th>\n",
              "      <th>cured</th>\n",
              "      <th>confirmed 15</th>\n",
              "      <th>death 15</th>\n",
              "      <th>confirmed 5</th>\n",
              "      <th>death 5</th>\n",
              "    </tr>\n",
              "  </thead>\n",
              "  <tbody>\n",
              "    <tr>\n",
              "      <th>0</th>\n",
              "      <td>World</td>\n",
              "      <td>12/31/2019</td>\n",
              "      <td>NaN</td>\n",
              "      <td>27</td>\n",
              "      <td>0</td>\n",
              "      <td>NaN</td>\n",
              "      <td>61</td>\n",
              "      <td>2</td>\n",
              "      <td>59</td>\n",
              "      <td>0</td>\n",
              "    </tr>\n",
              "    <tr>\n",
              "      <th>1</th>\n",
              "      <td>World</td>\n",
              "      <td>1/1/2020</td>\n",
              "      <td>NaN</td>\n",
              "      <td>27</td>\n",
              "      <td>0</td>\n",
              "      <td>NaN</td>\n",
              "      <td>61</td>\n",
              "      <td>2</td>\n",
              "      <td>59</td>\n",
              "      <td>0</td>\n",
              "    </tr>\n",
              "    <tr>\n",
              "      <th>2</th>\n",
              "      <td>World</td>\n",
              "      <td>1/2/2020</td>\n",
              "      <td>NaN</td>\n",
              "      <td>27</td>\n",
              "      <td>0</td>\n",
              "      <td>NaN</td>\n",
              "      <td>66</td>\n",
              "      <td>2</td>\n",
              "      <td>59</td>\n",
              "      <td>0</td>\n",
              "    </tr>\n",
              "  </tbody>\n",
              "</table>\n",
              "</div>"
            ],
            "text/plain": [
              "  district        date  active  ...  death 15  confirmed 5  death 5\n",
              "0    World  12/31/2019     NaN  ...         2           59        0\n",
              "1    World    1/1/2020     NaN  ...         2           59        0\n",
              "2    World    1/2/2020     NaN  ...         2           59        0\n",
              "\n",
              "[3 rows x 10 columns]"
            ]
          },
          "metadata": {
            "tags": []
          },
          "execution_count": 9
        }
      ]
    },
    {
      "cell_type": "code",
      "metadata": {
        "colab": {
          "base_uri": "https://localhost:8080/"
        },
        "id": "c0gMHkslVjp0",
        "outputId": "8bac53ce-7dce-4ed0-c948-412a7a67ff55"
      },
      "source": [
        "x=df.iloc[:,[3,4]]\n",
        "y=df.iloc[:,6]\n",
        "from sklearn.model_selection import train_test_split\n",
        "x_train,x_test,y_train,y_test=train_test_split(x,y,test_size=0.4,random_state=0)\n",
        "from sklearn.linear_model import LinearRegression\n",
        "lr=LinearRegression()\n",
        "lr.fit(x_train,y_train)"
      ],
      "execution_count": 10,
      "outputs": [
        {
          "output_type": "execute_result",
          "data": {
            "text/plain": [
              "LinearRegression(copy_X=True, fit_intercept=True, n_jobs=None, normalize=False)"
            ]
          },
          "metadata": {
            "tags": []
          },
          "execution_count": 10
        }
      ]
    },
    {
      "cell_type": "code",
      "metadata": {
        "colab": {
          "base_uri": "https://localhost:8080/"
        },
        "id": "Hb8Vnoi2Vm0g",
        "outputId": "4af2ad67-a2fe-4c43-ec32-cfb21a48b2fe"
      },
      "source": [
        "y_pred=lr.predict(x_test)\n",
        "from sklearn.metrics import r2_score,mean_squared_error,mean_absolute_error\n",
        "from math import sqrt\n",
        "accuracy=r2_score(y_pred,y_test)*100\n",
        "print(\"Accuracy r2_score\",accuracy)\n",
        "print(\"ACCURACY=\",lr.score(x_train,y_train)*100)\n",
        "from sklearn.metrics import mean_absolute_error\n",
        "pred= lr.predict(x_test)\n",
        "print(\"MAE=\",mean_absolute_error(y_test, pred))\n",
        "rss=((y_test-y_pred)**2).sum()\n",
        "mse=np.mean((y_test-y_pred)**2)\n",
        "print(\"MSE=\",mse)\n",
        "print(\"Final rmse value is =\",np.sqrt(np.mean((y_test-y_pred)**2)))"
      ],
      "execution_count": 11,
      "outputs": [
        {
          "output_type": "stream",
          "text": [
            "Accuracy r2_score 99.55963764911255\n",
            "ACCURACY= 99.57346092775042\n",
            "MAE= 215662.56037337764\n",
            "MSE= 82479060625.78702\n",
            "Final rmse value is = 287191.6792419081\n"
          ],
          "name": "stdout"
        }
      ]
    },
    {
      "cell_type": "code",
      "metadata": {
        "colab": {
          "base_uri": "https://localhost:8080/"
        },
        "id": "RmOxMfld_G8W",
        "outputId": "79670567-9341-4c2b-b1f0-b72551963d86"
      },
      "source": [
        "lr.predict([[14684741,610110]])"
      ],
      "execution_count": 12,
      "outputs": [
        {
          "output_type": "execute_result",
          "data": {
            "text/plain": [
              "array([18744939.40021707])"
            ]
          },
          "metadata": {
            "tags": []
          },
          "execution_count": 12
        }
      ]
    },
    {
      "cell_type": "markdown",
      "metadata": {
        "id": "s-mpgW4qnSNU"
      },
      "source": [
        "USA"
      ]
    },
    {
      "cell_type": "code",
      "metadata": {
        "colab": {
          "base_uri": "https://localhost:8080/"
        },
        "id": "ZYWbI2YCVvqm",
        "outputId": "e734df3d-c00b-4f70-e0ed-784ad1ad4bc0"
      },
      "source": [
        "df=pd.read_csv(\"/content/drive/MyDrive/Machine Learning Projects/covid data/USA/USA 15 and 5.csv\")\n",
        "df.head(3)\n",
        "x=df.iloc[:,[3,4]]\n",
        "y=df.iloc[:,6]\n",
        "from sklearn.model_selection import train_test_split\n",
        "x_train,x_test,y_train,y_test=train_test_split(x,y,test_size=0.4,random_state=0)\n",
        "from sklearn.linear_model import LinearRegression\n",
        "lr=LinearRegression()\n",
        "lr.fit(x_train,y_train)\n",
        "y_pred=lr.predict(x_test)\n",
        "from sklearn.metrics import r2_score,mean_squared_error,mean_absolute_error\n",
        "from math import sqrt\n",
        "accuracy=r2_score(y_pred,y_test)*100\n",
        "print(\"Accuracy r2_score\",accuracy)\n",
        "print(\"ACCURACY=\",lr.score(x_train,y_train)*100)\n",
        "from sklearn.metrics import mean_absolute_error\n",
        "pred= lr.predict(x_test)\n",
        "print(\"MAE=\",mean_absolute_error(y_test, pred))\n",
        "rss=((y_test-y_pred)**2).sum()\n",
        "mse=np.mean((y_test-y_pred)**2)\n",
        "print(\"MSE=\",mse)\n",
        "print(\"Final rmse value is =\",np.sqrt(np.mean((y_test-y_pred)**2)))"
      ],
      "execution_count": 17,
      "outputs": [
        {
          "output_type": "stream",
          "text": [
            "Accuracy r2_score 99.02464964320981\n",
            "ACCURACY= 99.1440894488326\n",
            "MAE= 96256.7407080868\n",
            "MSE= 12645202497.403793\n",
            "Final rmse value is = 112450.88926906622\n"
          ],
          "name": "stdout"
        }
      ]
    },
    {
      "cell_type": "code",
      "metadata": {
        "colab": {
          "base_uri": "https://localhost:8080/"
        },
        "id": "9AzX0FVhV7kq",
        "outputId": "38c82b47-d315-4adc-e7a0-f04760b77cb3"
      },
      "source": [
        "lr.predict([[3830010,140906]])"
      ],
      "execution_count": 18,
      "outputs": [
        {
          "output_type": "execute_result",
          "data": {
            "text/plain": [
              "array([5905644.91969191])"
            ]
          },
          "metadata": {
            "tags": []
          },
          "execution_count": 18
        }
      ]
    },
    {
      "cell_type": "markdown",
      "metadata": {
        "id": "581X0vEUnUcQ"
      },
      "source": [
        "UK"
      ]
    },
    {
      "cell_type": "code",
      "metadata": {
        "colab": {
          "base_uri": "https://localhost:8080/"
        },
        "id": "ve7F9WoRBFIa",
        "outputId": "b44ed90e-430c-478d-8cb4-da875f29e69e"
      },
      "source": [
        "df=pd.read_csv(\"/content/drive/MyDrive/Machine Learning Projects/covid data/UK/UK 15 and 5.csv\")\n",
        "df.head(3)\n",
        "x=df.iloc[:,[3,4]]\n",
        "y=df.iloc[:,6]\n",
        "from sklearn.model_selection import train_test_split\n",
        "x_train,x_test,y_train,y_test=train_test_split(x,y,test_size=0.4,random_state=0)\n",
        "from sklearn.linear_model import LinearRegression\n",
        "lr=LinearRegression()\n",
        "lr.fit(x_train,y_train)\n",
        "y_pred=lr.predict(x_test)\n",
        "from sklearn.metrics import r2_score,mean_squared_error,mean_absolute_error\n",
        "from math import sqrt\n",
        "accuracy=r2_score(y_pred,y_test)*100\n",
        "print(\"Accuracy r2_score\",accuracy)\n",
        "print(\"ACCURACY=\",lr.score(x_train,y_train)*100)\n",
        "from sklearn.metrics import mean_absolute_error\n",
        "pred= lr.predict(x_test)\n",
        "print(\"MAE=\",mean_absolute_error(y_test, pred))\n",
        "rss=((y_test-y_pred)**2).sum()\n",
        "mse=np.mean((y_test-y_pred)**2)\n",
        "print(\"MSE=\",mse)\n",
        "print(\"Final rmse value is =\",np.sqrt(np.mean((y_test-y_pred)**2)))\n",
        "lr.predict([[294066,45273]])"
      ],
      "execution_count": 20,
      "outputs": [
        {
          "output_type": "stream",
          "text": [
            "Accuracy r2_score 93.7993617360116\n",
            "ACCURACY= 95.93174298823104\n",
            "MAE= 25281.645721886383\n",
            "MSE= 1015625384.4986631\n",
            "Final rmse value is = 31868.877992465677\n"
          ],
          "name": "stdout"
        },
        {
          "output_type": "execute_result",
          "data": {
            "text/plain": [
              "array([365408.09432113])"
            ]
          },
          "metadata": {
            "tags": []
          },
          "execution_count": 20
        }
      ]
    },
    {
      "cell_type": "markdown",
      "metadata": {
        "id": "zIhgSB1ynW9K"
      },
      "source": [
        "ITALY"
      ]
    },
    {
      "cell_type": "code",
      "metadata": {
        "colab": {
          "base_uri": "https://localhost:8080/"
        },
        "id": "jujST0QrBWZL",
        "outputId": "3241d08a-ab3b-47d8-b8c5-388beb1599c7"
      },
      "source": [
        "df=pd.read_csv('/content/drive/MyDrive/Machine Learning Projects/covid data/Italy/Italy 5 and 15.csv')\n",
        "df.head(3)\n",
        "x=df.iloc[:,[3,4]]\n",
        "y=df.iloc[:,6]\n",
        "from sklearn.model_selection import train_test_split\n",
        "x_train,x_test,y_train,y_test=train_test_split(x,y,test_size=0.4,random_state=0)\n",
        "from sklearn.linear_model import LinearRegression\n",
        "lr=LinearRegression()\n",
        "lr.fit(x_train,y_train)\n",
        "y_pred=lr.predict(x_test)\n",
        "from sklearn.metrics import r2_score,mean_squared_error,mean_absolute_error\n",
        "from math import sqrt\n",
        "accuracy=r2_score(y_pred,y_test)*100\n",
        "print(\"Accuracy r2_score\",accuracy)\n",
        "print(\"ACCURACY=\",lr.score(x_train,y_train)*100)\n",
        "from sklearn.metrics import mean_absolute_error\n",
        "pred= lr.predict(x_test)\n",
        "print(\"MAE=\",mean_absolute_error(y_test, pred))\n",
        "rss=((y_test-y_pred)**2).sum()\n",
        "mse=np.mean((y_test-y_pred)**2)\n",
        "print(\"MSE=\",mse)\n",
        "print(\"Final rmse value is =\",np.sqrt(np.mean((y_test-y_pred)**2)))\n",
        "lr.predict([[244624,35058]])"
      ],
      "execution_count": 22,
      "outputs": [
        {
          "output_type": "stream",
          "text": [
            "Accuracy r2_score 98.82691705355336\n",
            "ACCURACY= 98.30236705146372\n",
            "MAE= 8898.094549675781\n",
            "MSE= 120458852.22278853\n",
            "Final rmse value is = 10975.37481012783\n"
          ],
          "name": "stdout"
        },
        {
          "output_type": "execute_result",
          "data": {
            "text/plain": [
              "array([246179.89768425])"
            ]
          },
          "metadata": {
            "tags": []
          },
          "execution_count": 22
        }
      ]
    },
    {
      "cell_type": "markdown",
      "metadata": {
        "id": "uekI_e8FnZa7"
      },
      "source": [
        "INDIA"
      ]
    },
    {
      "cell_type": "code",
      "metadata": {
        "colab": {
          "base_uri": "https://localhost:8080/"
        },
        "id": "Q14Yr_20C41I",
        "outputId": "db7b19fe-c1a2-4f6b-fbdf-1de0fcc53851"
      },
      "source": [
        "df=pd.read_csv('/content/drive/MyDrive/Machine Learning Projects/covid data/india/india 15 and 5 days count.csv')\n",
        "df.head(3)\n",
        "x=df.iloc[:,[3,4]]\n",
        "y=df.iloc[:,6]\n",
        "from sklearn.model_selection import train_test_split\n",
        "x_train,x_test,y_train,y_test=train_test_split(x,y,test_size=0.4,random_state=0)\n",
        "from sklearn.linear_model import LinearRegression\n",
        "lr=LinearRegression()\n",
        "lr.fit(x_train,y_train)\n",
        "y_pred=lr.predict(x_test)\n",
        "from sklearn.metrics import r2_score,mean_squared_error,mean_absolute_error\n",
        "from math import sqrt\n",
        "accuracy=r2_score(y_pred,y_test)*100\n",
        "print(\"Accuracy r2_score\",accuracy)\n",
        "print(\"ACCURACY=\",lr.score(x_train,y_train)*100)\n",
        "from sklearn.metrics import mean_absolute_error\n",
        "pred= lr.predict(x_test)\n",
        "print(\"MAE=\",mean_absolute_error(y_test, pred))\n",
        "rss=((y_test-y_pred)**2).sum()\n",
        "mse=np.mean((y_test-y_pred)**2)\n",
        "print(\"MSE=\",mse)\n",
        "print(\"Final rmse value is =\",np.sqrt(np.mean((y_test-y_pred)**2)))\n",
        "lr.predict([[1155191,28084]])"
      ],
      "execution_count": 23,
      "outputs": [
        {
          "output_type": "stream",
          "text": [
            "Accuracy r2_score 99.74747669170905\n",
            "ACCURACY= 99.80310116519838\n",
            "MAE= 10777.742334932856\n",
            "MSE= 168595891.15333894\n",
            "Final rmse value is = 12984.448049622246\n"
          ],
          "name": "stdout"
        },
        {
          "output_type": "execute_result",
          "data": {
            "text/plain": [
              "array([1903457.91698151])"
            ]
          },
          "metadata": {
            "tags": []
          },
          "execution_count": 23
        }
      ]
    },
    {
      "cell_type": "markdown",
      "metadata": {
        "id": "T9DujUDHnbct"
      },
      "source": [
        "SPAIN"
      ]
    },
    {
      "cell_type": "code",
      "metadata": {
        "colab": {
          "base_uri": "https://localhost:8080/"
        },
        "id": "tb3HcCLeFkXk",
        "outputId": "8eaa6497-1ba2-4d11-af07-61eb86cbd374"
      },
      "source": [
        "df=pd.read_csv(\"/content/drive/MyDrive/Machine Learning Projects/covid data/spain/spain 15 and 5.csv\")\n",
        "df.head(3)\n",
        "x=df.iloc[:,[3,4]]\n",
        "y=df.iloc[:,6]\n",
        "from sklearn.model_selection import train_test_split\n",
        "x_train,x_test,y_train,y_test=train_test_split(x,y,test_size=0.4,random_state=0)\n",
        "from sklearn.linear_model import LinearRegression\n",
        "lr=LinearRegression()\n",
        "lr.fit(x_train,y_train)\n",
        "y_pred=lr.predict(x_test)\n",
        "from sklearn.metrics import r2_score,mean_squared_error,mean_absolute_error\n",
        "from math import sqrt\n",
        "accuracy=r2_score(y_pred,y_test)*100\n",
        "print(\"Accuracy r2_score\",accuracy)\n",
        "print(\"ACCURACY=\",lr.score(x_train,y_train)*100)\n",
        "from sklearn.metrics import mean_absolute_error\n",
        "pred= lr.predict(x_test)\n",
        "print(\"MAE=\",mean_absolute_error(y_test, pred))\n",
        "rss=((y_test-y_pred)**2).sum()\n",
        "mse=np.mean((y_test-y_pred)**2)\n",
        "print(\"MSE=\",mse)\n",
        "print(\"Final rmse value is =\",np.sqrt(np.mean((y_test-y_pred)**2)))\n",
        "lr.predict([[264836,28422]])"
      ],
      "execution_count": 24,
      "outputs": [
        {
          "output_type": "stream",
          "text": [
            "Accuracy r2_score 97.19751200065959\n",
            "ACCURACY= 96.17662698227204\n",
            "MAE= 14131.890427119757\n",
            "MSE= 309895111.87746376\n",
            "Final rmse value is = 17603.83798713973\n"
          ],
          "name": "stdout"
        },
        {
          "output_type": "execute_result",
          "data": {
            "text/plain": [
              "array([300939.63598831])"
            ]
          },
          "metadata": {
            "tags": []
          },
          "execution_count": 24
        }
      ]
    },
    {
      "cell_type": "code",
      "metadata": {
        "id": "VmBSsSqyGKC7"
      },
      "source": [
        ""
      ],
      "execution_count": null,
      "outputs": []
    }
  ]
}